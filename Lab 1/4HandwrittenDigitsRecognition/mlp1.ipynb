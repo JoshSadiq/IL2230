{
 "cells": [
  {
   "cell_type": "markdown",
   "metadata": {},
   "source": [
    "\n",
    "## Task: Part 2 - Handwritten Digits Recognition\n",
    "\n",
    "### Subtask: MLP1\n",
    "\n",
    "**Goal:** To design and train a Multi-Layer Perceptron with *1 hidden layer*\n",
    "\n",
    "**Problem:** Image recognition\n",
    "\n",
    "**Dataset:** MNIST Handwritten Digits\n",
    "\n",
    "**Classes:** Basic digits 0...9\n",
    "\n",
    "**Python version:** Python 3.9.13"
   ]
  },
  {
   "cell_type": "code",
   "execution_count": null,
   "metadata": {},
   "outputs": [],
   "source": [
    "# Importing libraries\n",
    "# Torchvision contains MLP module, datasets allows for MNIST import\n",
    "import torchvision.ops as t_ops\n",
    "import torchvision.datasets as datasets"
   ]
  },
  {
   "cell_type": "code",
   "execution_count": null,
   "metadata": {},
   "outputs": [],
   "source": [
    "# Data handling\n",
    "mnist_trainset = datasets.MNIST(root=\"./data\", train=True, download=True, transform=None)"
   ]
  },
  {
   "cell_type": "code",
   "execution_count": null,
   "metadata": {},
   "outputs": [],
   "source": [
    "# Defining MLP model, loss function, gradient descent optimizier"
   ]
  },
  {
   "cell_type": "code",
   "execution_count": null,
   "metadata": {},
   "outputs": [],
   "source": [
    "# Training model"
   ]
  },
  {
   "cell_type": "code",
   "execution_count": null,
   "metadata": {},
   "outputs": [],
   "source": [
    "# Plotting loss improvements"
   ]
  }
 ],
 "metadata": {
  "kernelspec": {
   "display_name": "Python 3.9.13 ('base')",
   "language": "python",
   "name": "python3"
  },
  "language_info": {
   "name": "python",
   "version": "3.9.13"
  },
  "orig_nbformat": 4,
  "vscode": {
   "interpreter": {
    "hash": "ceeea006718afdcfa4ad2c416da898f3ef5e3f0bd0b0756f540b706779c09e2a"
   }
  }
 },
 "nbformat": 4,
 "nbformat_minor": 2
}
