{
 "cells": [
  {
   "cell_type": "markdown",
   "metadata": {},
   "source": [
    "\n",
    "## Task: Part 2 - Handwritten Digits Recognition\n",
    "\n",
    "### Subtask: MLP1\n",
    "\n",
    "**Goal:** To design and train a Multi-Layer Perceptron with *1 hidden layer*\n",
    "\n",
    "**Problem:** Image recognition\n",
    "\n",
    "**Dataset:** MNIST Handwritten Digits\n",
    "\n",
    "**Classes:** Basic digits 0...9\n",
    "\n",
    "**Python version:** Python 3.9.13"
   ]
  },
  {
   "cell_type": "code",
   "execution_count": 1,
   "metadata": {},
   "outputs": [],
   "source": [
    "# Importing libraries\n",
    "# Torchvision ops contains MLP module, datasets allows for MNIST import, transforms allows data transformation to tensor\n",
    "import torch\n",
    "import torchvision.ops as t_ops\n",
    "import torchvision.datasets as datasets\n",
    "import torchvision.transforms as transforms"
   ]
  },
  {
   "cell_type": "code",
   "execution_count": 2,
   "metadata": {},
   "outputs": [
    {
     "name": "stdout",
     "output_type": "stream",
     "text": [
      "Dataset MNIST\n",
      "    Number of datapoints: 60000\n",
      "    Root location: ./data\n",
      "    Split: Train\n",
      "Dataset MNIST\n",
      "    Number of datapoints: 10000\n",
      "    Root location: ./data\n",
      "    Split: Test\n"
     ]
    }
   ],
   "source": [
    "# Data handling\n",
    "# Load data and labels\n",
    "# Two sets of training images + labels (train images idx3, train images idx1)\n",
    "# Two sets of test images + labels (t10k images idx3, t10k images idx1)\n",
    "# Stores the data in current folder/data\n",
    "\n",
    "# Transformation values found by: https://stackoverflow.com/questions/63746182/correct-way-of-normalizing-and-scaling-the-mnist-dataset\n",
    "scaled_mean = 0.1307\n",
    "scaled_standard_deviation = 0.3081\n",
    "# If we wish to use scaling, set scale to 1\n",
    "# Else, we will not conduct any more transforming on MNIST than just turning it into a tensor\n",
    "# Reference: https://www.projectpro.io/article/exploring-mnist-dataset-using-pytorch-to-train-an-mlp/408\n",
    "scale = 0\n",
    "if scale == 1:\n",
    "    transform = transforms.Compose([transforms.ToTensor(),\n",
    "                                transforms.Normalize((scaled_mean,), (scaled_standard_deviation,))\n",
    "                                ])\n",
    "else:\n",
    "    transform = transforms.ToTensor()\n",
    "\n",
    "# Load datasets, transform at the same time\n",
    "mnist_trainset = datasets.MNIST(root=\"./data/trainset\", train=True, download=True, transform=transform)\n",
    "\n",
    "mnist_testset = datasets.MNIST(root=\"./data/testset\", train=False, download=False, transform=transform)\n",
    "\n",
    "# Define batch size\n",
    "# Smaller training batch size is better for updating weights (with a small caveat)\n",
    "# Test batch size is mostly limited by available RAM\n",
    "train_batch_size = 100\n",
    "test_batch_size = 500\n",
    "\n",
    "# Print to see if data has downloaded\n",
    "print(mnist_trainset)\n",
    "print(mnist_testset)\n",
    "\n",
    "# Define loaders\n",
    "# Shuffle == True shuffles dataset after each epoch\n",
    "mnist_trainloader = torch.utils.data.DataLoader(mnist_trainset, batch_size=train_batch_size, shuffle=True)\n",
    "mnist_testloader = torch.utils.data.DataLoader(mnist_testset, batch_size=test_batch_size, shuffle=True)"
   ]
  },
  {
   "cell_type": "code",
   "execution_count": null,
   "metadata": {},
   "outputs": [],
   "source": [
    "# Defining MLP model, loss function, gradient descent optimizier\n"
   ]
  },
  {
   "cell_type": "code",
   "execution_count": null,
   "metadata": {},
   "outputs": [],
   "source": [
    "# Training model"
   ]
  },
  {
   "cell_type": "code",
   "execution_count": null,
   "metadata": {},
   "outputs": [],
   "source": [
    "# Plotting loss improvements"
   ]
  }
 ],
 "metadata": {
  "kernelspec": {
   "display_name": "Python 3.9.13 ('base')",
   "language": "python",
   "name": "python3"
  },
  "language_info": {
   "codemirror_mode": {
    "name": "ipython",
    "version": 3
   },
   "file_extension": ".py",
   "mimetype": "text/x-python",
   "name": "python",
   "nbconvert_exporter": "python",
   "pygments_lexer": "ipython3",
   "version": "3.9.13"
  },
  "orig_nbformat": 4,
  "vscode": {
   "interpreter": {
    "hash": "ceeea006718afdcfa4ad2c416da898f3ef5e3f0bd0b0756f540b706779c09e2a"
   }
  }
 },
 "nbformat": 4,
 "nbformat_minor": 2
}
