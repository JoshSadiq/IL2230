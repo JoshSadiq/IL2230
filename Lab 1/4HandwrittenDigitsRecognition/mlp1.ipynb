{
 "cells": [
  {
   "cell_type": "markdown",
   "metadata": {},
   "source": [
    "\n",
    "## Task: Part 2 - Handwritten Digits Recognition\n",
    "\n",
    "### Subtask: MLP1\n",
    "\n",
    "**Goal:** To design and train a Multi-Layer Perceptron with *1 hidden layer*\n",
    "\n",
    "**Problem:** Image recognition\n",
    "\n",
    "**Dataset:** MNIST Handwritten Digits\n",
    "\n",
    "**Classes:** Basic digits 0...9\n",
    "\n",
    "**Python version:** Python 3.9.13"
   ]
  },
  {
   "cell_type": "code",
   "execution_count": 1,
   "metadata": {},
   "outputs": [],
   "source": [
    "# Importing libraries\n",
    "# Torchvision ops contains MLP module, datasets allows for MNIST import, transforms allows data transformation to tensor\n",
    "import torch\n",
    "import torchvision.ops as t_ops\n",
    "import torchvision.datasets as datasets\n",
    "import torchvision.transforms as transforms"
   ]
  },
  {
   "cell_type": "code",
   "execution_count": 9,
   "metadata": {},
   "outputs": [
    {
     "name": "stdout",
     "output_type": "stream",
     "text": [
      "Dataset MNIST\n",
      "    Number of datapoints: 60000\n",
      "    Root location: ./data\n",
      "    Split: Train\n",
      "Dataset MNIST\n",
      "    Number of datapoints: 10000\n",
      "    Root location: ./data\n",
      "    Split: Test\n"
     ]
    }
   ],
   "source": [
    "# Data handling\n",
    "# Load data and labels\n",
    "# Two sets of training images + labels (train images idx3, train images idx1)\n",
    "# Two sets of test images + labels (t10k images idx3, t10k images idx1)\n",
    "# Stores the data in current folder/data\n",
    "mnist_trainset = datasets.MNIST(root=\"./data\", train=True, download=True, transform=None)\n",
    "\n",
    "mnist_testset = datasets.MNIST(root=\"./data\", train=False, download=False, transform=None)\n",
    "\n",
    "print(mnist_trainset)\n",
    "print(mnist_testset)"
   ]
  },
  {
   "cell_type": "code",
   "execution_count": null,
   "metadata": {},
   "outputs": [],
   "source": [
    "# Defining MLP model, loss function, gradient descent optimizier\n"
   ]
  },
  {
   "cell_type": "code",
   "execution_count": null,
   "metadata": {},
   "outputs": [],
   "source": [
    "# Training model"
   ]
  },
  {
   "cell_type": "code",
   "execution_count": null,
   "metadata": {},
   "outputs": [],
   "source": [
    "# Plotting loss improvements"
   ]
  }
 ],
 "metadata": {
  "kernelspec": {
   "display_name": "Python 3.9.13 ('base')",
   "language": "python",
   "name": "python3"
  },
  "language_info": {
   "codemirror_mode": {
    "name": "ipython",
    "version": 3
   },
   "file_extension": ".py",
   "mimetype": "text/x-python",
   "name": "python",
   "nbconvert_exporter": "python",
   "pygments_lexer": "ipython3",
   "version": "3.9.13"
  },
  "orig_nbformat": 4,
  "vscode": {
   "interpreter": {
    "hash": "ceeea006718afdcfa4ad2c416da898f3ef5e3f0bd0b0756f540b706779c09e2a"
   }
  }
 },
 "nbformat": 4,
 "nbformat_minor": 2
}
