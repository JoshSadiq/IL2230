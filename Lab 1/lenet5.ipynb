{
  "cells": [
    {
      "cell_type": "markdown",
      "metadata": {
        "id": "fGrUbWOTDu3_"
      },
      "source": [
        "# LeNeT-5\n",
        "\n",
        "### LeNeT-5 based architecture for deep learning of MNIST dataset\n",
        "\n",
        "Import libraries"
      ]
    },
    {
      "cell_type": "code",
      "execution_count": 1,
      "metadata": {
        "id": "qOhd0z-iK-NE"
      },
      "outputs": [],
      "source": [
        "import torch\n",
        "import torch.nn as nn\n",
        "import torchvision.datasets as dsets\n",
        "import torchvision.transforms as transforms\n",
        "from torch.autograd import Variable"
      ]
    },
    {
      "cell_type": "markdown",
      "metadata": {
        "id": "NWUfjzOaK-NF"
      },
      "source": [
        "Define hyperparameters"
      ]
    },
    {
      "cell_type": "code",
      "execution_count": 2,
      "metadata": {
        "id": "waosKyMIK-NF"
      },
      "outputs": [],
      "source": [
        "num_classes = 10 # number of output classes discrete range [0,9]\n",
        "num_epochs = 2 # number of times which the entire dataset is passed throughout the model\n",
        "batch_size = 100 # the size of input data took for one iteration\n",
        "lr = 1e-3 # size of step "
      ]
    },
    {
      "cell_type": "markdown",
      "metadata": {
        "id": "ef8UFs2OK-NG"
      },
      "source": [
        "Download and load MNIST data\n",
        "\n",
        "Resize, transform and normalize"
      ]
    },
    {
      "cell_type": "code",
      "execution_count": 3,
      "metadata": {
        "id": "RsXjzzETn2Ds"
      },
      "outputs": [],
      "source": [
        "\n",
        "train_data = dsets.MNIST(root = './data',\n",
        "                            train = True,\n",
        "                            transform = transforms.Compose([\n",
        "                                  transforms.Resize((32,32)),\n",
        "                                  transforms.ToTensor(),\n",
        "                                  transforms.Normalize(mean = (0.1307,), std = (0.3081,))]),\n",
        "                            download = True)\n",
        "\n",
        "\n",
        "test_data = dsets.MNIST(root = './data',\n",
        "                                            train = False,\n",
        "                                            transform = transforms.Compose([\n",
        "                                                    transforms.Resize((32,32)),\n",
        "                                                    transforms.ToTensor(),\n",
        "                                                    transforms.Normalize(mean = (0.1325,), std = (0.3105,))]),\n",
        "                                            download=True)\n",
        "\n",
        "train_gen = torch.utils.data.DataLoader(dataset = train_data,\n",
        "                                             batch_size = batch_size,\n",
        "                                             shuffle = True)\n",
        "\n",
        "test_gen = torch.utils.data.DataLoader(dataset = test_data,\n",
        "                                      batch_size = batch_size, \n",
        "                                      shuffle = False)"
      ]
    },
    {
      "cell_type": "markdown",
      "metadata": {
        "id": "nsWuXthMK-NG"
      },
      "source": [
        "Download and load MNIST data"
      ]
    },
    {
      "cell_type": "code",
      "execution_count": 4,
      "metadata": {
        "id": "DeYjBdHMBNkI"
      },
      "outputs": [],
      "source": [
        "from torch.nn import Module\n",
        "from torch import nn\n",
        "\n",
        "class Net(nn.Module):\n",
        "    def __init__(self, num_classes=10):\n",
        "        super(Net, self).__init__()\n",
        "        self.layer1 = nn.Sequential(\n",
        "            nn.Conv2d(1, 6, kernel_size=5, stride=1, padding=0),\n",
        "            nn.BatchNorm2d(6),\n",
        "            nn.ReLU(),\n",
        "            nn.MaxPool2d(kernel_size = 2, stride = 2))\n",
        "        self.layer2 = nn.Sequential(\n",
        "            nn.Conv2d(6, 16, kernel_size=5, stride=1, padding=0),\n",
        "            nn.BatchNorm2d(16),\n",
        "            nn.ReLU(),\n",
        "            nn.MaxPool2d(kernel_size = 2, stride = 2))\n",
        "        self.fc = nn.Linear(400, 120)\n",
        "        self.relu = nn.ReLU()\n",
        "        self.fc1 = nn.Linear(120, 84)\n",
        "        self.fc2 = nn.Linear(84, num_classes)\n",
        "        \n",
        "    def forward(self, x):\n",
        "        x = self.layer1(x)\n",
        "        x = self.layer2(x)\n",
        "        x = x.reshape(x.size(0), -1)\n",
        "        x = self.fc(x)\n",
        "        x = self.relu(x)\n",
        "        x = self.fc1(x)\n",
        "        x = self.relu(x)\n",
        "        x = self.fc2(x)\n",
        "        return x"
      ]
    },
    {
      "cell_type": "markdown",
      "metadata": {
        "id": "7oBEqTzDK-NH"
      },
      "source": [
        "Build the model"
      ]
    },
    {
      "cell_type": "code",
      "execution_count": 5,
      "metadata": {
        "id": "2W5roF0zC_Dd"
      },
      "outputs": [],
      "source": [
        "net = Net()\n",
        "if torch.cuda.is_available():\n",
        "  net.cuda()"
      ]
    },
    {
      "cell_type": "markdown",
      "metadata": {
        "id": "Hbs-K8DrK-NI"
      },
      "source": [
        "Define loss function and the optimizer"
      ]
    },
    {
      "cell_type": "code",
      "execution_count": 6,
      "metadata": {
        "id": "9tXL0RTJC_Dd"
      },
      "outputs": [],
      "source": [
        "loss_function = nn.CrossEntropyLoss()\n",
        "optimizer = torch.optim.Adam(net.parameters(), lr=lr)"
      ]
    },
    {
      "cell_type": "markdown",
      "metadata": {
        "id": "pKlDwZefK-NI"
      },
      "source": [
        "Train the model"
      ]
    },
    {
      "cell_type": "code",
      "execution_count": 7,
      "metadata": {
        "id": "oZpf3XISC_Dd",
        "colab": {
          "base_uri": "https://localhost:8080/"
        },
        "outputId": "dae51dee-3302-4b4b-a775-c67521b2e33f"
      },
      "outputs": [
        {
          "output_type": "stream",
          "name": "stdout",
          "text": [
            "Epoch [1/2], Step [100/600], Loss: 0.251\n",
            "Epoch [1/2], Step [200/600], Loss: 0.303\n",
            "Epoch [1/2], Step [300/600], Loss: 0.087\n",
            "Epoch [1/2], Step [400/600], Loss: 0.163\n",
            "Epoch [1/2], Step [500/600], Loss: 0.064\n",
            "Epoch [1/2], Step [600/600], Loss: 0.044\n",
            "Epoch [2/2], Step [100/600], Loss: 0.030\n",
            "Epoch [2/2], Step [200/600], Loss: 0.012\n",
            "Epoch [2/2], Step [300/600], Loss: 0.022\n",
            "Epoch [2/2], Step [400/600], Loss: 0.089\n",
            "Epoch [2/2], Step [500/600], Loss: 0.070\n",
            "Epoch [2/2], Step [600/600], Loss: 0.066\n"
          ]
        }
      ],
      "source": [
        "for epoch in range(num_epochs):\n",
        "  for i ,(images,labels) in enumerate(train_gen):\n",
        "    labels = Variable(labels).cuda()\n",
        "    \n",
        "    outputs = net(images.cuda().float())\n",
        "    loss = loss_function(outputs, labels)\n",
        "\n",
        "    optimizer.zero_grad()\n",
        "    loss.backward()\n",
        "    optimizer.step()\n",
        "    \n",
        "    if (i+1) % 100 == 0:\n",
        "      print('Epoch [%d/%d], Step [%d/%d], Loss: %.3f'\n",
        "                 %(epoch+1, num_epochs, i+1, len(train_data)//batch_size, loss.data.item()))\n"
      ]
    },
    {
      "cell_type": "markdown",
      "metadata": {
        "id": "GqPcJIe8K-NI"
      },
      "source": [
        "Evaluate the accuracy of the model"
      ]
    },
    {
      "cell_type": "code",
      "execution_count": 8,
      "metadata": {
        "id": "VcIsr79UC_Dd",
        "colab": {
          "base_uri": "https://localhost:8080/"
        },
        "outputId": "30283b45-c979-4370-b6f9-458d7832eabb"
      },
      "outputs": [
        {
          "output_type": "stream",
          "name": "stdout",
          "text": [
            "Overall accuracy of the model: 98.590 %\n",
            "Accuracy for class: 0     is 99.592 %\n",
            "Accuracy for class: 1     is 99.824 %\n",
            "Accuracy for class: 2     is 98.159 %\n",
            "Accuracy for class: 3     is 99.109 %\n",
            "Accuracy for class: 4     is 99.695 %\n",
            "Accuracy for class: 5     is 99.215 %\n",
            "Accuracy for class: 6     is 98.330 %\n",
            "Accuracy for class: 7     is 98.152 %\n",
            "Accuracy for class: 8     is 98.768 %\n",
            "Accuracy for class: 9     is 95.144 %\n"
          ]
        }
      ],
      "source": [
        "classes=(\"0\",\"1\",\"2\",\"3\",\"4\",\"5\",\"6\",\"7\",\"8\",\"9\")\n",
        "correct_pred = {classname: 0 for classname in classes}\n",
        "total_pred = {classname: 0 for classname in classes}\n",
        "\n",
        "\n",
        "correct = 0\n",
        "total = 0\n",
        "for images,labels in test_gen:\n",
        "  \n",
        "  labels = labels.cuda()\n",
        "  \n",
        "  output = net(images.cuda().float())\n",
        "  _, predicted = torch.max(output,1)\n",
        "\n",
        "  for label, prediction in zip(labels, predicted):\n",
        "    if label == prediction:\n",
        "        correct_pred[classes[label]] += 1\n",
        "    total_pred[classes[label]] += 1\n",
        "\n",
        "  correct += (predicted == labels).sum()\n",
        "  total += labels.size(0)\n",
        "print('Overall accuracy of the model: %.3f %%' %((100*correct)/(total+1)))\n",
        "\n",
        "for classname, correct_count in correct_pred.items():\n",
        "    accuracy = 100 * float(correct_count) / total_pred[classname]\n",
        "    print(f'Accuracy for class: {classname:5s} is {accuracy:.3f} %')"
      ]
    },
    {
      "cell_type": "markdown",
      "metadata": {
        "id": "pw6IedGaK-NJ"
      },
      "source": [
        "Evaluate memory consumption and inference time"
      ]
    },
    {
      "cell_type": "code",
      "execution_count": 9,
      "metadata": {
        "id": "_WInNzR_H3XZ",
        "colab": {
          "base_uri": "https://localhost:8080/"
        },
        "outputId": "c390370b-3ff9-4634-f97e-84d5fab50fb0"
      },
      "outputs": [
        {
          "output_type": "stream",
          "name": "stdout",
          "text": [
            "-------------------------------------------------------  ------------  ------------  ------------  ------------  ------------  ------------  ------------  ------------  ------------  ------------  ------------  ------------  ------------  ------------  \n",
            "                                                   Name    Self CPU %      Self CPU   CPU total %     CPU total  CPU time avg     Self CUDA   Self CUDA %    CUDA total  CUDA time avg       CPU Mem  Self CPU Mem      CUDA Mem  Self CUDA Mem    # of Calls  \n",
            "-------------------------------------------------------  ------------  ------------  ------------  ------------  ------------  ------------  ------------  ------------  ------------  ------------  ------------  ------------  ------------  ------------  \n",
            "                                        model_inference         1.40%      44.617ms       100.00%        3.187s        3.187s       0.000us         0.00%      54.681ms      54.681ms       6.66 Mb     -32.88 Mb     113.41 Mb    -845.02 Mb             1  \n",
            "                                           aten::conv2d         0.02%     769.000us         1.11%      35.354ms     176.770us       0.000us         0.00%      26.339ms     131.695us           0 b           0 b     240.48 Mb           0 b           200  \n",
            "                                      aten::convolution         0.07%       2.300ms         1.09%      34.585ms     172.925us       0.000us         0.00%      26.339ms     131.695us           0 b           0 b     240.48 Mb           0 b           200  \n",
            "                                     aten::_convolution         0.07%       2.330ms         1.01%      32.285ms     161.425us       0.000us         0.00%      26.339ms     131.695us           0 b           0 b     240.48 Mb           0 b           200  \n",
            "                                aten::cudnn_convolution         0.59%      18.838ms         0.75%      23.914ms     119.570us      23.578ms        43.12%      23.578ms     117.890us           0 b           0 b     240.48 Mb     239.40 Mb           200  \n",
            "void implicit_convolve_sgemm<float, float, 128, 5, 5...         0.00%       0.000us         0.00%       0.000us       0.000us      13.584ms        24.84%      13.584ms     135.840us           0 b           0 b           0 b           0 b           100  \n",
            "                                       aten::batch_norm         0.02%     536.000us         0.55%      17.615ms      88.075us       0.000us         0.00%      11.370ms      56.850us           0 b           0 b     241.98 Mb           0 b           200  \n",
            "                           aten::_batch_norm_impl_index         0.02%     789.000us         0.54%      17.079ms      85.395us       0.000us         0.00%      11.370ms      56.850us           0 b           0 b     241.98 Mb           0 b           200  \n",
            "                                 aten::cudnn_batch_norm         0.26%       8.256ms         0.51%      16.290ms      81.450us      11.370ms        20.79%      11.370ms      56.850us           0 b           0 b     241.98 Mb           0 b           200  \n",
            "void cudnn::bn_fw_tr_1C11_kernel_NCHW<float, float, ...         0.00%       0.000us         0.00%       0.000us       0.000us      11.370ms        20.79%      11.370ms      56.850us           0 b           0 b           0 b           0 b           200  \n",
            "-------------------------------------------------------  ------------  ------------  ------------  ------------  ------------  ------------  ------------  ------------  ------------  ------------  ------------  ------------  ------------  ------------  \n",
            "Self CPU time total: 3.187s\n",
            "Self CUDA time total: 54.681ms\n",
            "\n"
          ]
        }
      ],
      "source": [
        "import torch\n",
        "import torchvision.models as models\n",
        "from torch.profiler import profile, record_function, ProfilerActivity\n",
        "with profile(activities=[\n",
        "        ProfilerActivity.CPU, ProfilerActivity.CUDA], profile_memory=True, record_shapes=True) as prof:\n",
        "    with record_function(\"model_inference\"):\n",
        "      for i ,(images,labels) in enumerate(test_gen):\n",
        "        outputs = net(images.cuda())\n",
        "\n",
        "print(prof.key_averages().table(sort_by=\"cuda_time_total\", row_limit=10))"
      ]
    }
  ],
  "metadata": {
    "kernelspec": {
      "display_name": "Python 3.9.13 ('base')",
      "language": "python",
      "name": "python3"
    },
    "language_info": {
      "codemirror_mode": {
        "name": "ipython",
        "version": 3
      },
      "file_extension": ".py",
      "mimetype": "text/x-python",
      "name": "python",
      "nbconvert_exporter": "python",
      "pygments_lexer": "ipython3",
      "version": "3.9.13"
    },
    "orig_nbformat": 4,
    "vscode": {
      "interpreter": {
        "hash": "ceeea006718afdcfa4ad2c416da898f3ef5e3f0bd0b0756f540b706779c09e2a"
      }
    },
    "colab": {
      "provenance": [],
      "collapsed_sections": []
    },
    "accelerator": "GPU",
    "gpuClass": "standard"
  },
  "nbformat": 4,
  "nbformat_minor": 0
}